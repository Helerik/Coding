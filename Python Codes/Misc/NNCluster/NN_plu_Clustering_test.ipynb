{
 "cells": [
  {
   "cell_type": "code",
   "execution_count": 55,
   "metadata": {},
   "outputs": [],
   "source": [
    "\n",
    "import numpy as np\n",
    "import matplotlib.pyplot as plt\n",
    "from sklearn.cluster import KMeans\n",
    "from sklearn.neural_network import MLPClassifier as mlp\n",
    "from sklearn.datasets import load_iris, load_digits, load_wine, load_breast_cancer\n",
    "from sklearn.metrics import classification_report as report\n",
    "from sklearn.preprocessing import MinMaxScaler as Scaler\n",
    "from sklearn.model_selection import train_test_split\n"
   ]
  },
  {
   "cell_type": "code",
   "execution_count": 56,
   "metadata": {},
   "outputs": [],
   "source": [
    "\n",
    "data = load_digits()\n",
    "X_data = data.data\n",
    "y_data = data.target\n",
    "\n",
    "scaler = Scaler().fit(X_data)\n",
    "X_data = scaler.transform(X_data)\n"
   ]
  },
  {
   "cell_type": "code",
   "execution_count": 57,
   "metadata": {},
   "outputs": [],
   "source": [
    "clusters = KMeans(2).fit(X_data)\n",
    "labs = np.unique(clusters.labels_)\n",
    "X_data = np.column_stack((X_data,clusters.labels_.astype(int)))\n",
    "data = np.column_stack((X_data,y_data.astype(int)))"
   ]
  },
  {
   "cell_type": "code",
   "execution_count": 58,
   "metadata": {},
   "outputs": [],
   "source": [
    "X0 = data[data[:,4].astype(int) == 0]\n",
    "X1 = data[data[:,4].astype(int) == 1]"
   ]
  },
  {
   "cell_type": "code",
   "execution_count": 59,
   "metadata": {},
   "outputs": [],
   "source": [
    "y0 = X0[:,-1]\n",
    "y1 = X1[:,-1]\n",
    "\n",
    "X0 = X0[:,:-2]\n",
    "X1 = X1[:,:-2]\n",
    "\n",
    "X0_train, X0_test, y0_train, y0_test = train_test_split(X0, y0, test_size=0.33, random_state=42)\n",
    "X1_train, X1_test, y1_train, y1_test = train_test_split(X1, y1, test_size=0.33, random_state=42)"
   ]
  },
  {
   "cell_type": "code",
   "execution_count": 60,
   "metadata": {},
   "outputs": [
    {
     "name": "stderr",
     "output_type": "stream",
     "text": [
      "c:\\users\\cliente\\appdata\\local\\programs\\python\\python38\\lib\\site-packages\\sklearn\\neural_network\\_multilayer_perceptron.py:568: ConvergenceWarning: Stochastic Optimizer: Maximum iterations (300) reached and the optimization hasn't converged yet.\n",
      "  warnings.warn(\n",
      "c:\\users\\cliente\\appdata\\local\\programs\\python\\python38\\lib\\site-packages\\sklearn\\neural_network\\_multilayer_perceptron.py:568: ConvergenceWarning: Stochastic Optimizer: Maximum iterations (300) reached and the optimization hasn't converged yet.\n",
      "  warnings.warn(\n"
     ]
    }
   ],
   "source": [
    "clf0 = mlp((15,15), max_iter = 300).fit(X0_train, y0_train)\n",
    "clf1 = mlp((15,15), max_iter = 300).fit(X1_train, y1_train)"
   ]
  },
  {
   "cell_type": "code",
   "execution_count": 61,
   "metadata": {},
   "outputs": [],
   "source": [
    "y0_pred = clf0.predict(X0_train)\n",
    "y1_pred = clf1.predict(X1_train)\n",
    "\n",
    "y_pred = np.append(y0_pred, [y1_pred])\n",
    "y_true = np.append(y0_train, [y1_train])"
   ]
  },
  {
   "cell_type": "code",
   "execution_count": 62,
   "metadata": {},
   "outputs": [
    {
     "name": "stdout",
     "output_type": "stream",
     "text": [
      "              precision    recall  f1-score   support\n",
      "\n",
      "         0.0       1.00      1.00      1.00       131\n",
      "         1.0       1.00      1.00      1.00       108\n",
      "         2.0       1.00      1.00      1.00       110\n",
      "         3.0       1.00      1.00      1.00       121\n",
      "         4.0       1.00      1.00      1.00       129\n",
      "         5.0       0.99      0.99      0.99       121\n",
      "         6.0       1.00      1.00      1.00       128\n",
      "         7.0       1.00      1.00      1.00       123\n",
      "         8.0       0.98      0.99      0.99       113\n",
      "         9.0       0.98      0.97      0.98       119\n",
      "\n",
      "    accuracy                           1.00      1203\n",
      "   macro avg       1.00      1.00      1.00      1203\n",
      "weighted avg       1.00      1.00      1.00      1203\n",
      "\n"
     ]
    }
   ],
   "source": [
    "print(report(y_true, y_pred))"
   ]
  },
  {
   "cell_type": "code",
   "execution_count": 63,
   "metadata": {},
   "outputs": [],
   "source": [
    "y0_pred = clf0.predict(X0_test)\n",
    "y1_pred = clf1.predict(X1_test)\n",
    "\n",
    "y_pred = np.append(y0_pred, [y1_pred])\n",
    "y_true = np.append(y0_test, [y1_test])"
   ]
  },
  {
   "cell_type": "code",
   "execution_count": 64,
   "metadata": {},
   "outputs": [
    {
     "name": "stdout",
     "output_type": "stream",
     "text": [
      "              precision    recall  f1-score   support\n",
      "\n",
      "         0.0       0.96      1.00      0.98        47\n",
      "         1.0       0.94      0.91      0.92        74\n",
      "         2.0       0.99      0.99      0.99        67\n",
      "         3.0       1.00      0.90      0.95        62\n",
      "         4.0       0.98      0.96      0.97        52\n",
      "         5.0       0.97      0.97      0.97        61\n",
      "         6.0       0.98      0.98      0.98        53\n",
      "         7.0       0.93      0.98      0.96        56\n",
      "         8.0       0.90      0.90      0.90        61\n",
      "         9.0       0.89      0.97      0.93        61\n",
      "\n",
      "    accuracy                           0.95       594\n",
      "   macro avg       0.95      0.96      0.95       594\n",
      "weighted avg       0.95      0.95      0.95       594\n",
      "\n"
     ]
    }
   ],
   "source": [
    "print(report(y_true, y_pred))"
   ]
  },
  {
   "cell_type": "code",
   "execution_count": 51,
   "metadata": {},
   "outputs": [],
   "source": [
    "X_train, X_test, y_train, y_test = train_test_split(X_data, y_data, test_size=0.33, random_state=42)"
   ]
  },
  {
   "cell_type": "code",
   "execution_count": 52,
   "metadata": {},
   "outputs": [
    {
     "name": "stderr",
     "output_type": "stream",
     "text": [
      "c:\\users\\cliente\\appdata\\local\\programs\\python\\python38\\lib\\site-packages\\sklearn\\neural_network\\_multilayer_perceptron.py:568: ConvergenceWarning: Stochastic Optimizer: Maximum iterations (300) reached and the optimization hasn't converged yet.\n",
      "  warnings.warn(\n"
     ]
    }
   ],
   "source": [
    "clf = mlp((15,15), max_iter = 300).fit(X_train, y_train)"
   ]
  },
  {
   "cell_type": "code",
   "execution_count": 53,
   "metadata": {},
   "outputs": [
    {
     "name": "stdout",
     "output_type": "stream",
     "text": [
      "              precision    recall  f1-score   support\n",
      "\n",
      "           0       0.99      0.99      0.99       123\n",
      "           1       0.95      0.99      0.97       127\n",
      "           2       0.98      0.99      0.99       125\n",
      "           3       0.99      0.98      0.98       127\n",
      "           4       0.99      0.99      0.99       117\n",
      "           5       0.98      0.99      0.99       109\n",
      "           6       1.00      0.98      0.99       124\n",
      "           7       0.97      1.00      0.99       117\n",
      "           8       1.00      0.98      0.99       122\n",
      "           9       0.98      0.96      0.97       112\n",
      "\n",
      "    accuracy                           0.99      1203\n",
      "   macro avg       0.99      0.98      0.98      1203\n",
      "weighted avg       0.99      0.99      0.99      1203\n",
      "\n"
     ]
    }
   ],
   "source": [
    "y_pred = clf.predict(X_train)\n",
    "print(report(y_train, y_pred))"
   ]
  },
  {
   "cell_type": "code",
   "execution_count": 54,
   "metadata": {},
   "outputs": [
    {
     "name": "stdout",
     "output_type": "stream",
     "text": [
      "              precision    recall  f1-score   support\n",
      "\n",
      "           0       0.96      0.98      0.97        55\n",
      "           1       0.88      0.95      0.91        55\n",
      "           2       0.96      0.98      0.97        52\n",
      "           3       1.00      0.95      0.97        56\n",
      "           4       0.97      0.97      0.97        64\n",
      "           5       0.96      0.95      0.95        73\n",
      "           6       0.98      0.96      0.97        57\n",
      "           7       0.98      0.98      0.98        62\n",
      "           8       0.92      0.90      0.91        52\n",
      "           9       0.97      0.97      0.97        68\n",
      "\n",
      "    accuracy                           0.96       594\n",
      "   macro avg       0.96      0.96      0.96       594\n",
      "weighted avg       0.96      0.96      0.96       594\n",
      "\n"
     ]
    }
   ],
   "source": [
    "y_pred = clf.predict(X_test)\n",
    "print(report(y_test, y_pred))"
   ]
  },
  {
   "cell_type": "code",
   "execution_count": null,
   "metadata": {},
   "outputs": [],
   "source": []
  }
 ],
 "metadata": {
  "kernelspec": {
   "display_name": "Python 3",
   "language": "python",
   "name": "python3"
  },
  "language_info": {
   "codemirror_mode": {
    "name": "ipython",
    "version": 3
   },
   "file_extension": ".py",
   "mimetype": "text/x-python",
   "name": "python",
   "nbconvert_exporter": "python",
   "pygments_lexer": "ipython3",
   "version": "3.8.1"
  }
 },
 "nbformat": 4,
 "nbformat_minor": 4
}
